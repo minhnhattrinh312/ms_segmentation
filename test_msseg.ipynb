{
 "cells": [
  {
   "cell_type": "code",
   "execution_count": 2,
   "metadata": {},
   "outputs": [],
   "source": [
    "import numpy as np\n",
    "import glob\n",
    "import random\n",
    "from segment2d import *\n",
    "import nibabel as nib\n",
    "from ipywidgets import interact\n",
    "import matplotlib.pyplot as plt\n",
    "import albumentations as A\n",
    "from torchvision import transforms\n",
    "import os\n",
    "\n",
    "import csv\n",
    "import kornia as K\n",
    "from tqdm import tqdm\n",
    "from torch.utils.data import DataLoader\n",
    "import yaml\n",
    "import SimpleITK as sitk\n",
    "import shutil"
   ]
  },
  {
   "cell_type": "code",
   "execution_count": 3,
   "metadata": {},
   "outputs": [
    {
     "data": {
      "text/plain": [
       "'/home/nhattm1/test_newcode/nhatvinbig.zip'"
      ]
     },
     "execution_count": 3,
     "metadata": {},
     "output_type": "execute_result"
    }
   ],
   "source": [
    "shutil.make_archive(\"nhatvinbig\", 'zip', \"/home/nhattm1/test_newcode\", \"nhatvinbig\")"
   ]
  },
  {
   "cell_type": "code",
   "execution_count": 2,
   "metadata": {},
   "outputs": [],
   "source": [
    "file_nolesion = glob.glob(\"data/msseg2016_test_center7_Patient_08_nolestion/Preprocessed_Data/*FLAIR*\")"
   ]
  },
  {
   "cell_type": "code",
   "execution_count": 8,
   "metadata": {},
   "outputs": [
    {
     "name": "stderr",
     "output_type": "stream",
     "text": [
      "Using 16bit None Automatic Mixed Precision (AMP)\n",
      "GPU available: True (cuda), used: True\n",
      "TPU available: False, using: 0 TPU cores\n",
      "IPU available: False, using: 0 IPUs\n",
      "HPU available: False, using: 0 HPUs\n",
      "LOCAL_RANK: 0 - CUDA_VISIBLE_DEVICES: [0]\n"
     ]
    },
    {
     "data": {
      "application/vnd.jupyter.widget-view+json": {
       "model_id": "f293d7b015c94ab1acb474468800b87b",
       "version_major": 2,
       "version_minor": 0
      },
      "text/plain": [
       "Testing: 0it [00:00, ?it/s]"
      ]
     },
     "metadata": {},
     "output_type": "display_data"
    },
    {
     "name": "stdout",
     "output_type": "stream",
     "text": [
      "{'batch_score_val': 0.49926398172881514, 'batch_dice_val': 0.4818139120541373, 'batch_ppv_val': 0.673712064238829, 'batch_tpr_val': 0.37500004595587894, 'batch_lfpr_val': 0.7500015624902344, 'batch_ltpr_val': 0.6666722221296312, 'batch_vd_val': 0.4433823203395353}\n",
      "{'batch_score_val': 0.8531114988183958, 'batch_dice_val': 0.8352916562040703, 'batch_ppv_val': 0.8239856609374986, 'batch_tpr_val': 0.8469122295513636, 'batch_lfpr_val': 0.20454726239258544, 'batch_ltpr_val': 0.9523810657593672, 'batch_vd_val': 0.02782398978615724}\n",
      "{'batch_score_val': 0.8091058106050201, 'batch_dice_val': 0.8315583873976208, 'batch_ppv_val': 0.767194405613776, 'batch_tpr_val': 0.90771105155665, 'batch_lfpr_val': 0.23333461110898146, 'batch_ltpr_val': 0.8360658425150123, 'batch_vd_val': 0.183156504941478}\n",
      "{'batch_score_val': 0.628077085568715, 'batch_dice_val': 0.8992559261029464, 'batch_ppv_val': 0.9040490920109422, 'batch_tpr_val': 0.8945133178720074, 'batch_lfpr_val': 0.6666674074057612, 'batch_ltpr_val': 0.37838005843227446, 'batch_vd_val': 0.010547849915676241}\n",
      "{'batch_score_val': 0.8183723073203721, 'batch_dice_val': 0.8579310094974272, 'batch_ppv_val': 0.89144089622476, 'batch_tpr_val': 0.8268491711382835, 'batch_lfpr_val': 0.2906984991877916, 'batch_ltpr_val': 0.8311690504298046, 'batch_vd_val': 0.07245766417047002}\n",
      "{'batch_score_val': 0.7374064785188242, 'batch_dice_val': 0.7663543764411394, 'batch_ppv_val': 0.8825848052305771, 'batch_tpr_val': 0.6771750221838465, 'batch_lfpr_val': 0.13600069119944702, 'batch_ltpr_val': 0.4886366541837192, 'batch_vd_val': 0.23273659576890954}\n",
      "{'batch_score_val': 0.6164426452195227, 'batch_dice_val': 0.6027053261722924, 'batch_ppv_val': 0.5552634369793698, 'batch_tpr_val': 0.6590114849038224, 'batch_lfpr_val': 0.3846169625206089, 'batch_ltpr_val': 0.6666675925900205, 'batch_vd_val': 0.18684473173461852}\n",
      "{'batch_score_val': 0.8625187917491476, 'batch_dice_val': 0.8358686068024517, 'batch_ppv_val': 0.8144033415102585, 'batch_tpr_val': 0.8584960251352319, 'batch_lfpr_val': 0.05970289596582691, 'batch_ltpr_val': 0.848837385072808, 'batch_vd_val': 0.054141088791711416}\n",
      "{'batch_score_val': 0.607377913655213, 'batch_dice_val': 0.6387322149145256, 'batch_ppv_val': 0.7554002696696144, 'batch_tpr_val': 0.5532806164131867, 'batch_lfpr_val': 0.5294145328556891, 'batch_ltpr_val': 0.6153875739417389, 'batch_vd_val': 0.26756629746085164}\n",
      "{'batch_score_val': 0.7740429177509867, 'batch_dice_val': 0.7404177339387059, 'batch_ppv_val': 0.8908828234287672, 'batch_tpr_val': 0.6334342580372282, 'batch_lfpr_val': 0.20588468857444533, 'batch_ltpr_val': 0.7352948961914817, 'batch_vd_val': 0.2889813998216836}\n",
      "{'batch_score_val': 0.7842412282738261, 'batch_dice_val': 0.8663396556365499, 'batch_ppv_val': 0.9872840208105301, 'batch_tpr_val': 0.771793350051264, 'batch_lfpr_val': 0.3333339869274638, 'batch_ltpr_val': 0.6712333270776342, 'batch_vd_val': 0.2182661384333505}\n",
      "{'batch_score_val': 0.6874582338179853, 'batch_dice_val': 0.7423128272454854, 'batch_ppv_val': 0.7130623789912525, 'batch_tpr_val': 0.7740656862303431, 'batch_lfpr_val': 0.6730775517739389, 'batch_ltpr_val': 0.9523811791372422, 'batch_vd_val': 0.08555115097418294}\n",
      "{'batch_score_val': 0.5308913864279016, 'batch_dice_val': 0.5876091510385933, 'batch_ppv_val': 0.5873649278908574, 'batch_tpr_val': 0.5878535842287257, 'batch_lfpr_val': 0.8292687091007095, 'batch_ltpr_val': 0.7777802468861457, 'batch_vd_val': 0.000831946741564946}\n",
      "{'batch_score_val': 0.5257275130643964, 'batch_dice_val': 0.48008454332560124, 'batch_ppv_val': 0.4452653883403892, 'batch_tpr_val': 0.520811295929254, 'batch_lfpr_val': 0.8412700932220742, 'batch_ltpr_val': 1.0, 'batch_vd_val': 0.16966490000591006}\n",
      "{'batch_score_val': 0.605148416987414, 'batch_dice_val': 0.6213807421923495, 'batch_ppv_val': 0.7953763518115751, 'batch_tpr_val': 0.5098471676926013, 'batch_lfpr_val': 0.5744689904915096, 'batch_ltpr_val': 0.65000174999125, 'batch_vd_val': 0.35898626287875307}\n",
      "{'batch_score_val': 0.5298683919162694, 'batch_dice_val': 0.44478791954683294, 'batch_ppv_val': 0.5050702221111457, 'batch_tpr_val': 0.3973611722196633, 'batch_lfpr_val': 0.6923088757350934, 'batch_ltpr_val': 0.8888901234430728, 'batch_vd_val': 0.2132555933336731}\n",
      "{'batch_score_val': 0.7935188656911287, 'batch_dice_val': 0.6999955758914758, 'batch_ppv_val': 0.9886432867385431, 'batch_tpr_val': 0.541807566393939, 'batch_lfpr_val': 0.1639351115285971, 'batch_ltpr_val': 0.762500296874629, 'batch_vd_val': 0.4519685981165969}\n",
      "{'batch_score_val': 0.7412576748427675, 'batch_dice_val': 0.6920532835378468, 'batch_ppv_val': 0.9119096017090653, 'batch_tpr_val': 0.5576153369336101, 'batch_lfpr_val': 0.366198075777358, 'batch_ltpr_val': 0.816326905455295, 'batch_vd_val': 0.38851906385397295}\n",
      "{'batch_score_val': 0.7587769529742308, 'batch_dice_val': 0.8138747911185168, 'batch_ppv_val': 0.8184912133156207, 'batch_tpr_val': 0.8093101567776176, 'batch_lfpr_val': 0.4615405325364133, 'batch_ltpr_val': 0.8666675555496297, 'batch_vd_val': 0.011217049601316613}\n",
      "{'batch_score_val': 0.5384003945252955, 'batch_dice_val': 0.45637587541101504, 'batch_ppv_val': 0.42606523482891795, 'batch_tpr_val': 0.4913295532760761, 'batch_lfpr_val': 0.41176816606961136, 'batch_ltpr_val': 0.6666688888740742, 'batch_vd_val': 0.15317916861572708}\n",
      "{'batch_score_val': 0.8212720914307696, 'batch_dice_val': 0.8209967037285022, 'batch_ppv_val': 0.7705932971523078, 'batch_tpr_val': 0.8784552072445558, 'batch_lfpr_val': 0.33333492063114134, 'batch_ltpr_val': 1.0, 'batch_vd_val': 0.13997255165707603}\n",
      "{'batch_score_val': 0.7813216535722965, 'batch_dice_val': 0.7815199969914636, 'batch_ppv_val': 0.6702458100075801, 'batch_tpr_val': 0.9370967749739855, 'batch_lfpr_val': 0.32143099488930393, 'batch_ltpr_val': 0.9285716836725583, 'batch_vd_val': 0.39813895287668793}\n",
      "{'batch_score_val': 0.7350291516580261, 'batch_dice_val': 0.46396709238386463, 'batch_ppv_val': 0.9883040969871062, 'batch_tpr_val': 0.30313907595165235, 'batch_lfpr_val': 9.99990000099999e-06, 'batch_ltpr_val': 0.6666694444212965, 'batch_vd_val': 0.6932734804239031}\n",
      "{'batch_score_val': 0.7957137073211138, 'batch_dice_val': 0.6444954230362551, 'batch_ppv_val': 0.8534548326913567, 'batch_tpr_val': 0.5177337854567579, 'batch_lfpr_val': 0.23077514788347783, 'batch_ltpr_val': 1.0, 'batch_vd_val': 0.39336709381082013}\n",
      "{'batch_score_val': 0.7010058346478811, 'batch_dice_val': 0.5773551288121537, 'batch_ppv_val': 0.42422919535130416, 'batch_tpr_val': 0.9034598232243336, 'batch_lfpr_val': 0.22857363264676384, 'batch_ltpr_val': 0.9130436672963754, 'batch_vd_val': 1.1296502766062075}\n",
      "{'batch_score_val': 0.8058604857556213, 'batch_dice_val': 0.7913046673583904, 'batch_ppv_val': 0.6786343078556696, 'batch_tpr_val': 0.9488351652849656, 'batch_lfpr_val': 0.1224507705086316, 'batch_ltpr_val': 0.8088238105532198, 'batch_vd_val': 0.3981538426535926}\n",
      "{'batch_score_val': 0.7449248730926861, 'batch_dice_val': 0.8564408204912127, 'batch_ppv_val': 0.7760303195070553, 'batch_tpr_val': 0.9554415029109822, 'batch_lfpr_val': 0.46667022219851867, 'batch_ltpr_val': 0.7692325443650433, 'batch_vd_val': 0.23119094562940692}\n",
      "{'batch_score_val': 0.8442805321981933, 'batch_dice_val': 0.897267629263346, 'batch_ppv_val': 0.8765420109246391, 'batch_tpr_val': 0.9189970875634008, 'batch_lfpr_val': 0.3050859235831804, 'batch_ltpr_val': 0.8979593919196084, 'batch_vd_val': 0.04843473114765723}\n",
      "{'batch_score_val': 0.7420402738717399, 'batch_dice_val': 0.8158388025323478, 'batch_ppv_val': 0.7263245780908515, 'batch_tpr_val': 0.9305184411940556, 'batch_lfpr_val': 0.5000035714030614, 'batch_ltpr_val': 0.875001562480469, 'batch_vd_val': 0.28113307639943674}\n",
      "{'batch_score_val': 0.5561451584211042, 'batch_dice_val': 0.48076257399025, 'batch_ppv_val': 0.3710540564190996, 'batch_tpr_val': 0.6825787557786045, 'batch_lfpr_val': 0.45454793387302783, 'batch_ltpr_val': 0.7500015624902344, 'batch_vd_val': 0.8395668878165902}\n",
      "{'batch_score_val': 0.7324665125132469, 'batch_dice_val': 0.6122113767422545, 'batch_ppv_val': 0.8769638002084169, 'batch_tpr_val': 0.470245762294328, 'batch_lfpr_val': 0.1304357277872524, 'batch_ltpr_val': 0.6741576694857646, 'batch_vd_val': 0.46377973391539}\n",
      "{'batch_score_val': 0.4625957092462374, 'batch_dice_val': 0.3133696725124215, 'batch_ppv_val': 0.19429863508637393, 'batch_tpr_val': 0.8093750595702939, 'batch_lfpr_val': 0.8000009999950001, 'batch_ltpr_val': 1.0, 'batch_vd_val': 3.165624010742497}\n",
      "{'batch_score_val': 0.9242904543107275, 'batch_dice_val': 0.8754819749838461, 'batch_ppv_val': 0.9732621924604713, 'batch_tpr_val': 0.7955553382609578, 'batch_lfpr_val': 0.04729794101490472, 'batch_ltpr_val': 0.940298552016006, 'batch_vd_val': 0.18258888054642178}\n",
      "{'batch_score_val': 0.850569214387956, 'batch_dice_val': 0.8800000000955605, 'batch_ppv_val': 0.9565631384706846, 'batch_tpr_val': 0.8147847760535815, 'batch_lfpr_val': 0.1785728954055439, 'batch_ltpr_val': 0.78000043999912, 'batch_vd_val': 0.14821641846221753}\n",
      "{'batch_score_val': 0.77253068943528, 'batch_dice_val': 0.8744888349404084, 'batch_ppv_val': 0.8411497778774651, 'batch_tpr_val': 0.9105797605443904, 'batch_lfpr_val': 0.6428596938593296, 'batch_ltpr_val': 1.0, 'batch_vd_val': 0.08254175949748577}\n",
      "{'batch_score_val': 0.826011005636131, 'batch_dice_val': 0.7969941139185153, 'batch_ppv_val': 0.8690059713575349, 'batch_tpr_val': 0.7360037433198838, 'batch_lfpr_val': 0.23118320904128548, 'batch_ltpr_val': 0.902777845293163, 'batch_vd_val': 0.15305099437910533}\n",
      "{'batch_score_val': 0.8511691781498099, 'batch_dice_val': 0.8695689602324798, 'batch_ppv_val': 0.8508022072227978, 'batch_tpr_val': 0.8891822907790586, 'batch_lfpr_val': 0.2957751438203213, 'batch_ltpr_val': 0.9705882641291528, 'batch_vd_val': 0.045110465429493596}\n",
      "{'test_score': 0.720222567975812, 'test_dice': 0.709373169904942, 'test_ppv': 0.7522948013530542, 'test_tpr': 0.7188151471050372, 'test_lfpr': 0.38100129554878076, 'test_ltpr': 0.8094342987204552, 'test_vd': 0.34088844371027377}\n"
     ]
    },
    {
     "data": {
      "text/plain": [
       "[{}]"
      ]
     },
     "execution_count": 8,
     "metadata": {},
     "output_type": "execute_result"
    }
   ],
   "source": [
    "model = FCDenseNet(in_channels=cfg.DATA.INDIM_MODEL_MICCAI, n_classes=cfg.DATA.NUM_CLASS)\n",
    "\n",
    "# List of subjects in test set\n",
    "list_test_subject = sorted(glob.glob(f\"data/MSSEG-Testing/Center*/*/Preprocessed_Data/*FLAIR*\"))\n",
    "file_nolesion = glob.glob(\"data/msseg2016_test_center7_Patient_08_nolestion/Preprocessed_Data/*FLAIR*\")\n",
    "\n",
    "\n",
    "# List of subjects in the training set\n",
    "list_train_subject = sorted(glob.glob(\"data/msseg2016npz/*\"))\n",
    "\n",
    "# Create a MEGLoader object for the test data using the list_test_subject variable\n",
    "test_dataset = MSSEG_Test_Loader(list_subject=list_test_subject)\n",
    "# test_dataset = MSSEG_Test_Loader(file_nolesion)\n",
    "segmenter = Segmenter(model, cfg.DATA.CLASS_WEIGHT, cfg.DATA.NUM_CLASS, \n",
    "                                        cfg.OPT.LEARNING_RATE, cfg.OPT.FACTOR_LR, cfg.OPT.PATIENCE_LR)\n",
    "checkpoint = \"/home/nhattm1/test_newcode/weights_msseg_tiramisu/ckpt_dice_0.7091.ckpt\"\n",
    "segmenter = Segmenter.load_from_checkpoint(checkpoint_path=checkpoint, model=model,\n",
    "                                        class_weight=cfg.DATA.CLASS_WEIGHT,\n",
    "                                            num_classes=cfg.DATA.NUM_CLASS, \n",
    "                                        learning_rate=cfg.OPT.LEARNING_RATE,\n",
    "                                        factor_lr=cfg.OPT.FACTOR_LR, patience_lr=cfg.OPT.PATIENCE_LR)\n",
    "\n",
    "PARAMS_TRAINER = {\"accelerator\":cfg.SYS.ACCELERATOR, \"devices\":cfg.SYS.DEVICES, \n",
    "                \"benchmark\":True, \"enable_progress_bar\":True, \n",
    "                    # \"overfit_batches\" :5,\n",
    "                    \"logger\" : False,\n",
    "                    # \"callbacks\" : [check_point_dice, lr_monitor, early_stopping],\n",
    "                    \"log_every_n_steps\" :1, \"num_sanity_val_steps\":0, \"max_epochs\":cfg.TRAIN.EPOCHS,\n",
    "                    \"precision\":cfg.SYS.MIX_PRECISION,\n",
    "                    }\n",
    "\n",
    "# Initialize a Trainer object with the specified parameters\n",
    "trainer = pl.Trainer(**PARAMS_TRAINER)\n",
    "trainer.test(segmenter, test_dataset, verbose=True)"
   ]
  },
  {
   "cell_type": "code",
   "execution_count": null,
   "metadata": {},
   "outputs": [],
   "source": [
    "# flair = nib.load(\"data/data_isbi_2015/training/training01/preprocessed/training01_01_flair_pp.nii\").get_fdata()\n",
    "# aug_flair = augmentation(image=image_flair)[\"image\"]\n",
    "def show_segmentation(index):\n",
    "    try:\n",
    "        plt.figure(figsize=(20, 20))\n",
    "        plt.subplot(1, 5, 1),\n",
    "        plt.imshow(padded_flair[...,index]),\n",
    "        plt.subplot(1, 5, 2),\n",
    "        plt.imshow(flair[...,index]),\n",
    "        # plt.subplot(1, 5, 3),\n",
    "        # plt.imshow(padded_t2[...,index]),\n",
    "        # plt.subplot(1, 5, 4),\n",
    "        # plt.imshow(padded_mask[...,index]),\n",
    "        plt.show(),\n",
    "    except:\n",
    "        pass\n",
    "    # plt.subplot(1, 5, 5),\n",
    "    # plt.imshow(augmented_mask),\n",
    "interact(show_segmentation, index=(0,500))"
   ]
  },
  {
   "cell_type": "code",
   "execution_count": 2,
   "metadata": {},
   "outputs": [],
   "source": [
    "list_file_flair = sorted(glob.glob(f\"data/msseg-2008-testing-nii/*/*FLAIR*\"))\n"
   ]
  },
  {
   "cell_type": "code",
   "execution_count": 15,
   "metadata": {},
   "outputs": [],
   "source": [
    "img1 = sitk.ReadImage(\"/home/nhattm1/test_newcode/data/msseg-2008-testing-nii/CHB_test1_Case01/CHB_test1_Case01_FLAIR_brain_bias_correction.nii.gz\")\n",
    "#get numpy array from SimpleITK image\n",
    "img = sitk.GetArrayFromImage(img1).astype(np.uint8)\n",
    "new_img = sitk.GetImageFromArray(img)"
   ]
  },
  {
   "cell_type": "code",
   "execution_count": 17,
   "metadata": {},
   "outputs": [],
   "source": [
    "new_img.CopyInformation(img1)"
   ]
  },
  {
   "cell_type": "code",
   "execution_count": 16,
   "metadata": {},
   "outputs": [],
   "source": [
    "\n",
    "# Use sitk.WriteImage to write the new image\n",
    "output_filename = \"abc.nhdr\"  # Replace with your desired output file path and format\n",
    "sitk.WriteImage(new_img, output_filename)"
   ]
  },
  {
   "cell_type": "code",
   "execution_count": 6,
   "metadata": {},
   "outputs": [
    {
     "data": {
      "text/plain": [
       "'CHB_test1_Case01'"
      ]
     },
     "execution_count": 6,
     "metadata": {},
     "output_type": "execute_result"
    }
   ],
   "source": [
    "path_flair = list_file_flair[0]\n",
    "id_subject = path_flair.split(\"/\")[-2]\n",
    "id_subject"
   ]
  },
  {
   "cell_type": "code",
   "execution_count": 5,
   "metadata": {},
   "outputs": [
    {
     "data": {
      "application/vnd.jupyter.widget-view+json": {
       "model_id": "c549db1c814445219b802b4d033a4e33",
       "version_major": 2,
       "version_minor": 0
      },
      "text/plain": [
       "interactive(children=(IntSlider(value=1, description='index', max=2), Output()), _dom_classes=('widget-interac…"
      ]
     },
     "metadata": {},
     "output_type": "display_data"
    },
    {
     "data": {
      "text/plain": [
       "<function __main__.show_segmentation(index)>"
      ]
     },
     "execution_count": 5,
     "metadata": {},
     "output_type": "execute_result"
    }
   ],
   "source": [
    "def show_segmentation(index):\n",
    "    try:\n",
    "        plt.figure(figsize=(20, 20))\n",
    "        plt.subplot(1, 5, 1),\n",
    "        plt.imshow(flair[...,index]),\n",
    "        plt.subplot(1, 5, 2),\n",
    "        plt.imshow(mask),\n",
    "        # plt.subplot(1, 5, 3),\n",
    "        # plt.imshow(padded_t2[...,index]),\n",
    "        # plt.subplot(1, 5, 4),\n",
    "        # plt.imshow(padded_mask[...,index]),\n",
    "        plt.show(),\n",
    "    except:\n",
    "        pass\n",
    "    # plt.subplot(1, 5, 5),\n",
    "    # plt.imshow(augmented_mask),\n",
    "interact(show_segmentation, index=(0,2))"
   ]
  },
  {
   "cell_type": "code",
   "execution_count": null,
   "metadata": {},
   "outputs": [],
   "source": []
  }
 ],
 "metadata": {
  "kernelspec": {
   "display_name": "base",
   "language": "python",
   "name": "python3"
  },
  "language_info": {
   "codemirror_mode": {
    "name": "ipython",
    "version": 3
   },
   "file_extension": ".py",
   "mimetype": "text/x-python",
   "name": "python",
   "nbconvert_exporter": "python",
   "pygments_lexer": "ipython3",
   "version": "3.9.13"
  },
  "orig_nbformat": 4
 },
 "nbformat": 4,
 "nbformat_minor": 2
}
